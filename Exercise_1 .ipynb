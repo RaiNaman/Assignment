{
 "cells": [
  {
   "cell_type": "code",
   "execution_count": 1,
   "metadata": {},
   "outputs": [],
   "source": [
    "import json"
   ]
  },
  {
   "cell_type": "code",
   "execution_count": 2,
   "metadata": {},
   "outputs": [],
   "source": [
    "f = open(r'C:\\Users\\rnaman\\Desktop\\python_aid_excercise\\20190418211413_2.json', encoding=\"utf8\")\n",
    "data = json.load(f)"
   ]
  },
  {
   "cell_type": "code",
   "execution_count": 3,
   "metadata": {},
   "outputs": [],
   "source": [
    "file_name = data[\"file_name\"]\n",
    "regions = data[\"attributes\"][\"_via_img_metadata\"][\"regions\"]\n",
    "file_path = r'C:\\Users\\rnaman\\Desktop\\python_aid_excercise\\\\'"
   ]
  },
  {
   "cell_type": "code",
   "execution_count": 4,
   "metadata": {},
   "outputs": [],
   "source": [
    "final_dict = {}\n",
    "for i in range(len(regions)):\n",
    "    dict_region = {}\n",
    "    if regions[i][\"shape_attributes\"][\"name\"] == \"rect\":\n",
    "        location = [0,0,0,0]\n",
    "        location[1] = regions[i][\"shape_attributes\"][\"x\"]\n",
    "        location[0] = regions[i][\"shape_attributes\"][\"y\"]\n",
    "        location[3] = regions[i][\"shape_attributes\"][\"width\"]\n",
    "        location[2] = regions[i][\"shape_attributes\"][\"height\"]\n",
    "        dict_region[\"location\"] = location\n",
    "        dict_region[\"text\"] =  regions[i][\"region_attributes\"][\"label\"]\n",
    "    \n",
    "        final_dict[str(i)] = dict_region"
   ]
  },
  {
   "cell_type": "code",
   "execution_count": 5,
   "metadata": {},
   "outputs": [],
   "source": [
    "with open( file_path + file_name + '.json', 'w', encoding='utf8') as fp:\n",
    "    json.dump(final_dict, fp,  indent=4, ensure_ascii=False)"
   ]
  },
  {
   "cell_type": "code",
   "execution_count": null,
   "metadata": {},
   "outputs": [],
   "source": []
  }
 ],
 "metadata": {
  "kernelspec": {
   "display_name": "Python 3",
   "language": "python",
   "name": "python3"
  },
  "language_info": {
   "codemirror_mode": {
    "name": "ipython",
    "version": 3
   },
   "file_extension": ".py",
   "mimetype": "text/x-python",
   "name": "python",
   "nbconvert_exporter": "python",
   "pygments_lexer": "ipython3",
   "version": "3.7.6"
  }
 },
 "nbformat": 4,
 "nbformat_minor": 4
}
