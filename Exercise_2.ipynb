{
 "cells": [
  {
   "cell_type": "code",
   "execution_count": 1,
   "metadata": {},
   "outputs": [],
   "source": [
    "import json\n",
    "from PIL import Image, ImageFont, ImageDraw\n",
    "import numpy as np"
   ]
  },
  {
   "cell_type": "code",
   "execution_count": 2,
   "metadata": {},
   "outputs": [],
   "source": [
    "f = open(r'C:\\Users\\rnaman\\Desktop\\python_aid_excercise\\20190418211413_2.json', encoding=\"utf8\")\n",
    "data = json.load(f)\n",
    "file_name = data[\"file_name\"]\n",
    "regions = data[\"attributes\"][\"_via_img_metadata\"][\"regions\"]\n",
    "final_dict = {}\n",
    "for i in range(len(regions)):\n",
    "    dict_region = {}\n",
    "    if regions[i][\"shape_attributes\"][\"name\"] == \"rect\":\n",
    "        location = [0,0,0,0]\n",
    "        location[1] = regions[i][\"shape_attributes\"][\"x\"]\n",
    "        location[0] = regions[i][\"shape_attributes\"][\"y\"]\n",
    "        location[3] = regions[i][\"shape_attributes\"][\"width\"]\n",
    "        location[2] = regions[i][\"shape_attributes\"][\"height\"]\n",
    "        dict_region[\"location\"] = location\n",
    "        dict_region[\"text\"] =  regions[i][\"region_attributes\"][\"label\"]\n",
    "    \n",
    "        final_dict[str(i)] = dict_region"
   ]
  },
  {
   "cell_type": "code",
   "execution_count": 3,
   "metadata": {},
   "outputs": [],
   "source": [
    "path = r'C:\\Users\\rnaman\\Desktop\\python_aid_excercise\\20190418211413_2.png.'"
   ]
  },
  {
   "cell_type": "code",
   "execution_count": 23,
   "metadata": {},
   "outputs": [],
   "source": [
    "im = Image.open(path)\n",
    "draw = ImageDraw.Draw(im)\n",
    "for i in range(len(final_dict)):\n",
    "    ls = final_dict[str(i)][\"location\"]\n",
    "    text = final_dict[str(i)][\"text\"]\n",
    "    draw.rectangle([ls[1], ls[0], ls[3]+ls[1], ls[2]+ls[0]], outline=(255, 0, 0))\n",
    "    draw.text([ls[1], ls[0]-13], str(text.encode('utf-8').decode('utf-8')), font=ImageFont.truetype(\"arial.ttf\", 15), fill =\"red\")\n",
    "im.show()\n",
    "#im.save(r'C:\\Users\\rnaman\\Desktop\\python_aid_excercise\\excercise_2.png')"
   ]
  },
  {
   "cell_type": "code",
   "execution_count": null,
   "metadata": {},
   "outputs": [],
   "source": []
  }
 ],
 "metadata": {
  "kernelspec": {
   "display_name": "Python 3",
   "language": "python",
   "name": "python3"
  },
  "language_info": {
   "codemirror_mode": {
    "name": "ipython",
    "version": 3
   },
   "file_extension": ".py",
   "mimetype": "text/x-python",
   "name": "python",
   "nbconvert_exporter": "python",
   "pygments_lexer": "ipython3",
   "version": "3.7.6"
  }
 },
 "nbformat": 4,
 "nbformat_minor": 4
}
