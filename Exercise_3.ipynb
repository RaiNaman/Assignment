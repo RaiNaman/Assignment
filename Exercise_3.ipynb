{
 "cells": [
  {
   "cell_type": "code",
   "execution_count": 1,
   "metadata": {},
   "outputs": [],
   "source": [
    "import json\n",
    "from PIL import Image, ImageFont, ImageDraw\n",
    "import numpy as np"
   ]
  },
  {
   "cell_type": "code",
   "execution_count": 2,
   "metadata": {},
   "outputs": [],
   "source": [
    "f = open(r'C:\\Users\\rnaman\\Desktop\\python_aid_excercise\\20190418211413_1.json', encoding=\"utf8\")\n",
    "data = json.load(f)\n",
    "file_name = data[\"file_name\"]\n",
    "regions = data[\"attributes\"][\"_via_img_metadata\"][\"regions\"]\n",
    "final_dict = {}\n",
    "for i in range(len(regions)):\n",
    "    dict_region = {}\n",
    "    if regions[i][\"shape_attributes\"][\"name\"] == \"rect\":\n",
    "        if regions[i][\"region_attributes\"][\"formal_key\"] != \"\" and regions[i][\"region_attributes\"][\"key_type\"] == \"key\":\n",
    "            location = [0,0,0,0]\n",
    "            location[1] = regions[i][\"shape_attributes\"][\"x\"]\n",
    "            location[0] = regions[i][\"shape_attributes\"][\"y\"]\n",
    "            location[3] = regions[i][\"shape_attributes\"][\"width\"]\n",
    "            location[2] = regions[i][\"shape_attributes\"][\"height\"]\n",
    "            dict_region[\"location\"] = location\n",
    "            dict_region[\"formal_key\"] = regions[i][\"region_attributes\"][\"formal_key\"]\n",
    "            dict_region[\"text\"] =  \"red\"\n",
    "            final_dict[str(i)] = dict_region\n",
    "            \n",
    "        if regions[i][\"region_attributes\"][\"formal_key\"] != \"\" and regions[i][\"region_attributes\"][\"key_type\"] == \"value\":\n",
    "            location = [0,0,0,0]\n",
    "            location[1] = regions[i][\"shape_attributes\"][\"x\"]\n",
    "            location[0] = regions[i][\"shape_attributes\"][\"y\"]\n",
    "            location[3] = regions[i][\"shape_attributes\"][\"width\"]\n",
    "            location[2] = regions[i][\"shape_attributes\"][\"height\"]\n",
    "            dict_region[\"location\"] = location\n",
    "            dict_region[\"formal_key\"] = regions[i][\"region_attributes\"][\"formal_key\"]\n",
    "            dict_region[\"text\"] =  \"blue\"\n",
    "            final_dict[str(i)] = dict_region\n",
    "            "
   ]
  },
  {
   "cell_type": "code",
   "execution_count": 3,
   "metadata": {},
   "outputs": [],
   "source": [
    "path = r'C:\\Users\\rnaman\\Desktop\\python_aid_excercise\\20190418211413_1.png.'"
   ]
  },
  {
   "cell_type": "code",
   "execution_count": 4,
   "metadata": {},
   "outputs": [],
   "source": [
    "im = Image.open(path)\n",
    "draw = ImageDraw.Draw(im)\n",
    "for i in final_dict:\n",
    "    ls = final_dict[str(i)][\"location\"]\n",
    "    if final_dict[str(i)][\"text\"] == \"red\":\n",
    "        draw.rectangle([ls[1], ls[0], ls[3]+ls[1], ls[2]+ls[0]], outline=(255, 0, 0))\n",
    "        draw.text([ls[1], ls[0]-13], final_dict[str(i)][\"formal_key\"], font=ImageFont.truetype(\"arial.ttf\", 15), fill =\"red\")\n",
    "    if final_dict[str(i)][\"text\"] == \"blue\":\n",
    "        draw.rectangle([ls[1], ls[0], ls[3]+ls[1], ls[2]+ls[0]], outline=(0, 0, 255))\n",
    "        draw.text([ls[1], ls[0]-13], final_dict[str(i)][\"formal_key\"], font=ImageFont.truetype(\"arial.ttf\", 15), fill =\"blue\")\n",
    "im.save(r'C:\\Users\\rnaman\\Desktop\\python_aid_excercise\\excercise_3.png')"
   ]
  },
  {
   "cell_type": "code",
   "execution_count": null,
   "metadata": {},
   "outputs": [],
   "source": []
  }
 ],
 "metadata": {
  "kernelspec": {
   "display_name": "Python 3",
   "language": "python",
   "name": "python3"
  },
  "language_info": {
   "codemirror_mode": {
    "name": "ipython",
    "version": 3
   },
   "file_extension": ".py",
   "mimetype": "text/x-python",
   "name": "python",
   "nbconvert_exporter": "python",
   "pygments_lexer": "ipython3",
   "version": "3.7.6"
  }
 },
 "nbformat": 4,
 "nbformat_minor": 4
}
