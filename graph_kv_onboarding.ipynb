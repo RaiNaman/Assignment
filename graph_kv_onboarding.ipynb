{
 "cells": [
  {
   "cell_type": "code",
   "execution_count": 1,
   "metadata": {},
   "outputs": [
    {
     "name": "stdout",
     "output_type": "stream",
     "text": [
      "WARNING:tensorflow:From /Users/rnaman/opt/anaconda3/envs/lib-kv/lib/python3.6/site-packages/blockflow/blocks/Block.py:19: The name tf.Session is deprecated. Please use tf.compat.v1.Session instead.\n",
      "\n",
      "(36, 6, 36)\n"
     ]
    }
   ],
   "source": [
    "import json\n",
    "from blocks.features.HeuristicGraphAdjMat import get_heuristic_graph_adj_mat\n",
    "\n",
    "file_path = '/Users/rnaman/Desktop/Projects/on_boarding/lib-kv/10_10_PoC_Mansion Registration Certificate.json'\n",
    "with open(file_path, 'r') as f:\n",
    "    json_data = json.load(f)\n",
    "\n",
    "adj_matrix = get_heuristic_graph_adj_mat(json_data)\n",
    "print(adj_matrix.shape)\n"
   ]
  },
  {
   "cell_type": "code",
   "execution_count": 2,
   "metadata": {},
   "outputs": [],
   "source": [
    "import cv2\n",
    "import numpy as np\n",
    "blank_image = 255*np.ones((1024,1280,3), np.uint8)\n",
    "window_name = 'Image'"
   ]
  },
  {
   "cell_type": "code",
   "execution_count": null,
   "metadata": {},
   "outputs": [],
   "source": [
    "for i in range(len(adj_matrix)):\n",
    "    for j in range(6):\n",
    "        for k in range(len(adj_matrix)):\n",
    "            if adj_matrix[i][j][k] == 1.0:\n",
    "                id_a = i\n",
    "                id_b = k\n",
    "                rect_a = json_data[id_a]['location']\n",
    "                rect_b = json_data[id_b]['location']\n",
    "                image = cv2.rectangle(blank_image, (rect_a[0][0], rect_a[0][1]), (rect_a[2][0], rect_a[2][1]), (0, 0, 255), 2)\n",
    "                image = cv2.rectangle(blank_image, (rect_b[0][0], rect_b[0][1]), (rect_b[2][0], rect_b[2][1]), (0, 0, 255), 2)\n",
    "                start_point = (int((rect_a[0][0] + rect_a[2][0])/2), rect_a[0][1])\n",
    "                end_point = (int((rect_b[0][0] + rect_b[2][0])/2), rect_b[0][1])\n",
    "                image = cv2.arrowedLine(image, start_point, end_point, (0, 0, 0), 1)\n",
    "cv2.imshow(window_name, image)\n",
    "cv2.waitKey(0)\n",
    "cv2.destroyAllWindows()"
   ]
  },
  {
   "cell_type": "code",
   "execution_count": null,
   "metadata": {},
   "outputs": [],
   "source": []
  }
 ],
 "metadata": {
  "kernelspec": {
   "display_name": "Python 3",
   "language": "python",
   "name": "python3"
  },
  "language_info": {
   "codemirror_mode": {
    "name": "ipython",
    "version": 3
   },
   "file_extension": ".py",
   "mimetype": "text/x-python",
   "name": "python",
   "nbconvert_exporter": "python",
   "pygments_lexer": "ipython3",
   "version": "3.6.10"
  }
 },
 "nbformat": 4,
 "nbformat_minor": 4
}
